{
 "cells": [
  {
   "cell_type": "markdown",
   "metadata": {},
   "source": [
    "# Task 4\n",
    "\n",
    "> Find the lowest eigenvalue of the following matrix:\n",
    "\n",
    "> $\n",
    "\\begin{bmatrix}\n",
    "1 & 0 & 0 & 0 \\\\\n",
    "0 & 0 & -1 & 0 \\\\\n",
    "0 & -1 & 0 & 0 \\\\\n",
    "0 & 0 & 0 & 1\n",
    "\\end{bmatrix}\n",
    "$\n",
    "\n",
    "> using VQE-like circuits, created by yourself from scratch.\n",
    "\n",
    "\n",
    "## The approach\n",
    "\n",
    "Having solved [task 2](QOSF%20-%20Task%202%20%28Bonus%20Question%29.ipynb) we can approach this one in the same way but this time it's much easier because there is only a single parameter. To find the optimum parameter we compare brute force search, evolutionary search and, as a third alternative, gradient descent using a simple **Automatic Differentiation** (AD) loop which is provided by Yao.\n",
    "\n",
    "## The ansatz\n",
    "\n",
    "First we prepare the ansatz. The hints suggest using a simple 2-bit circuit with a single parameter, $\\theta$. I guess if we don't have this hint we'd need to try various circuits to find a good approximation."
   ]
  },
  {
   "cell_type": "code",
   "execution_count": 1,
   "metadata": {},
   "outputs": [
    {
     "data": {
      "text/plain": [
       "\u001b[36mnqubits: 2\u001b[39m\n",
       "\u001b[34m\u001b[1mchain\u001b[22m\u001b[39m\n",
       "├─ \u001b[36m\u001b[1mput on (\u001b[22m\u001b[39m\u001b[36m\u001b[1m1\u001b[22m\u001b[39m\u001b[36m\u001b[1m)\u001b[22m\u001b[39m\n",
       "│  └─ H\n",
       "├─ \u001b[31m\u001b[1mcontrol(\u001b[22m\u001b[39m\u001b[31m\u001b[1m1\u001b[22m\u001b[39m\u001b[31m\u001b[1m)\u001b[22m\u001b[39m\n",
       "│  └─ \u001b[37m\u001b[1m(2,)\u001b[22m\u001b[39m X\n",
       "└─ \u001b[36m\u001b[1mput on (\u001b[22m\u001b[39m\u001b[36m\u001b[1m1\u001b[22m\u001b[39m\u001b[36m\u001b[1m)\u001b[22m\u001b[39m\n",
       "   └─ rot(X, 0.0)\n"
      ]
     },
     "execution_count": 1,
     "metadata": {},
     "output_type": "execute_result"
    }
   ],
   "source": [
    "using Yao\n",
    "\n",
    "ansatz(θ) = chain(2,\n",
    "                put(1=>H),\n",
    "                control(1, 2=>X),\n",
    "                put(1=>Rx(θ)))\n",
    "\n",
    "ansatz(0)"
   ]
  },
  {
   "cell_type": "markdown",
   "metadata": {},
   "source": [
    "## The objective function \n",
    "\n",
    "By some trial and error, the matrix, let's call it Q, can be written as\n",
    "$$2Q = I\\otimes I-X\\otimes X-Y\\otimes Y+Z\\otimes Z$$\n",
    "\n",
    "Using the [same procedure](QOSF%20-%20Task%202%20%28Bonus%20Question%29.ipynb#Measuring-in-the-computational-basis) as we used for task 2, we define the alignment operators for XX, YY and ZZ respectively. The expectation is the sum of the expectations of each term properly aligned in the Z basis."
   ]
  },
  {
   "cell_type": "code",
   "execution_count": 2,
   "metadata": {},
   "outputs": [
    {
     "data": {
      "text/plain": [
       "expectation (generic function with 1 method)"
      ]
     },
     "execution_count": 2,
     "metadata": {},
     "output_type": "execute_result"
    }
   ],
   "source": [
    "using StatsBase: mean\n",
    "\n",
    "XX = repeat(2, Ry(-π/2))\n",
    "YY = repeat(2, Rx(π/2))\n",
    "ZZ = repeat(2, I2)\n",
    "\n",
    "# Convert a measurement {true,false} to Z-operator basis {-1,1}\n",
    "to_Z_basis(c) = c==0 ? 1 : -1\n",
    "\n",
    "# Measure a state multiple times and convert \n",
    "measure_Z_basis(ψ) = measure(ψ; nshots=100) .|> c -> to_Z_basis(c[1])*to_Z_basis(c[2])\n",
    "\n",
    "# Calculate the expectation for a particular term, applying appropriate rotation before measurement\n",
    "expectation_for_term(term_rotation) =\n",
    "    θ -> zero_state(2) |> ansatz(θ) |> term_rotation |> measure_Z_basis |> mean\n",
    "\n",
    "expectation(θ) = \n",
    "    0.5(1 - expectation_for_term(XX)(θ[1]) - expectation_for_term(YY)(θ[1]) + expectation_for_term(ZZ)(θ[1]))"
   ]
  },
  {
   "cell_type": "markdown",
   "metadata": {},
   "source": [
    "## Brute force search\n",
    "\n",
    "Since we only have a single parameter, an exhaustive search over the parameter space is possible."
   ]
  },
  {
   "cell_type": "code",
   "execution_count": 3,
   "metadata": {},
   "outputs": [
    {
     "data": {
      "text/plain": [
       "-1.0"
      ]
     },
     "execution_count": 3,
     "metadata": {},
     "output_type": "execute_result"
    }
   ],
   "source": [
    "minimum(expectation(θ) for θ in 0:π/32:2π)"
   ]
  },
  {
   "cell_type": "markdown",
   "metadata": {},
   "source": [
    "## Evolutionary search\n",
    "\n"
   ]
  },
  {
   "cell_type": "code",
   "execution_count": 4,
   "metadata": {},
   "outputs": [
    {
     "data": {
      "text/plain": [
       "\n",
       " * Status: success\n",
       "\n",
       " * Candidate solution\n",
       "    Minimizer:  [3.1105824333247067]\n",
       "    Minimum:    -1.0\n",
       "    Iterations: 18\n",
       "\n",
       " * Found with\n",
       "    Algorithm: (15,30)-CMA-ES\n"
      ]
     },
     "execution_count": 4,
     "metadata": {},
     "output_type": "execute_result"
    }
   ],
   "source": [
    "using Evolutionary\n",
    "Evolutionary.optimize(\n",
    "        expectation,\n",
    "        rand(1)*2π, \n",
    "        CMAES(),\n",
    "        Evolutionary.Options(iterations=200, reltol=0.001))"
   ]
  },
  {
   "cell_type": "markdown",
   "metadata": {},
   "source": [
    "# Checking Result\n",
    "\n",
    "To make sure that the quantum algorithm has found the correct result we compare with the known eigenvalues."
   ]
  },
  {
   "cell_type": "code",
   "execution_count": 5,
   "metadata": {},
   "outputs": [
    {
     "data": {
      "text/plain": [
       "Eigen{Float64,Float64,Array{Float64,2},Array{Float64,1}}\n",
       "values:\n",
       "4-element Array{Float64,1}:\n",
       " -0.9999999999999989\n",
       "  1.0\n",
       "  1.0\n",
       "  1.0\n",
       "vectors:\n",
       "4×4 Array{Float64,2}:\n",
       " 0.0       1.0   0.0       0.0\n",
       " 0.707107  0.0  -0.707107  0.0\n",
       " 0.707107  0.0   0.707107  0.0\n",
       " 0.0       0.0   0.0       1.0"
      ]
     },
     "execution_count": 5,
     "metadata": {},
     "output_type": "execute_result"
    }
   ],
   "source": [
    "using LinearAlgebra\n",
    "\n",
    "Q = [1  0  0 0; \n",
    "     0  0 -1 0;\n",
    "     0 -1  0 0; \n",
    "     0  0  0 1]\n",
    "\n",
    "eigen(Q)"
   ]
  },
  {
   "cell_type": "markdown",
   "metadata": {},
   "source": [
    "The minimum eigenvalue is -1.0, and matches the results from the VQE algorithm."
   ]
  },
  {
   "cell_type": "markdown",
   "metadata": {},
   "source": [
    "# Autodiff gradient descent\n",
    "\n",
    "As an alternative to the parameter search methods used above, we can take advantage of the magic of Automatic Differention provided by [YaoExtensions](https://tutorials.yaoquantum.org/dev/generated/quick-start/7.variation-quantum-eigen-solver/) to help perform the gradient descent."
   ]
  },
  {
   "cell_type": "code",
   "execution_count": 6,
   "metadata": {},
   "outputs": [],
   "source": [
    "# This only needs to be done once.\n",
    "#]add YaoExtensions"
   ]
  },
  {
   "cell_type": "code",
   "execution_count": 7,
   "metadata": {},
   "outputs": [
    {
     "data": {
      "text/plain": [
       "\u001b[36mnqubits: 2\u001b[39m\n",
       "\u001b[34m\u001b[1mchain\u001b[22m\u001b[39m\n",
       "├─ \u001b[36m\u001b[1mput on (\u001b[22m\u001b[39m\u001b[36m\u001b[1m1\u001b[22m\u001b[39m\u001b[36m\u001b[1m)\u001b[22m\u001b[39m\n",
       "│  └─ H\n",
       "├─ \u001b[31m\u001b[1mcontrol(\u001b[22m\u001b[39m\u001b[31m\u001b[1m1\u001b[22m\u001b[39m\u001b[31m\u001b[1m)\u001b[22m\u001b[39m\n",
       "│  └─ \u001b[37m\u001b[1m(2,)\u001b[22m\u001b[39m X\n",
       "└─ \u001b[36m\u001b[1mput on (\u001b[22m\u001b[39m\u001b[36m\u001b[1m1\u001b[22m\u001b[39m\u001b[36m\u001b[1m)\u001b[22m\u001b[39m\n",
       "   └─ rot(X, 0.8975415358205068)\n"
      ]
     },
     "execution_count": 7,
     "metadata": {},
     "output_type": "execute_result"
    }
   ],
   "source": [
    "using Yao.AD, YaoExtensions\n",
    "\n",
    "circuit = dispatch!(ansatz(rand()*2π), :random)"
   ]
  },
  {
   "cell_type": "code",
   "execution_count": 8,
   "metadata": {},
   "outputs": [
    {
     "name": "stdout",
     "output_type": "stream",
     "text": [
      "min = -0.999999999999996\n"
     ]
    },
    {
     "data": {
      "text/plain": [
       "\u001b[36mnqubits: 2\u001b[39m\n",
       "\u001b[34m\u001b[1mchain\u001b[22m\u001b[39m\n",
       "├─ \u001b[36m\u001b[1mput on (\u001b[22m\u001b[39m\u001b[36m\u001b[1m1\u001b[22m\u001b[39m\u001b[36m\u001b[1m)\u001b[22m\u001b[39m\n",
       "│  └─ H\n",
       "├─ \u001b[31m\u001b[1mcontrol(\u001b[22m\u001b[39m\u001b[31m\u001b[1m1\u001b[22m\u001b[39m\u001b[31m\u001b[1m)\u001b[22m\u001b[39m\n",
       "│  └─ \u001b[37m\u001b[1m(2,)\u001b[22m\u001b[39m X\n",
       "└─ \u001b[36m\u001b[1mput on (\u001b[22m\u001b[39m\u001b[36m\u001b[1m1\u001b[22m\u001b[39m\u001b[36m\u001b[1m)\u001b[22m\u001b[39m\n",
       "   └─ rot(X, 3.1415927406490103)\n"
      ]
     },
     "execution_count": 8,
     "metadata": {},
     "output_type": "execute_result"
    }
   ],
   "source": [
    "Q = matblock(Complex{Float64}.(\n",
    "    [1  0  0 0; \n",
    "     0  0 -1 0;\n",
    "     0 -1  0 0; \n",
    "     0  0  0 1]))\n",
    "\n",
    "learning_rate(t) = exp(1/t)\n",
    "\n",
    "for t in 1:10\n",
    "      _, grad = expect'(Q, zero_state(2) => circuit)\n",
    "      dispatch!(-, circuit, learning_rate(t) * grad)\n",
    "end\n",
    "    \n",
    "println(\"min = $(real.(expect(Q, zero_state(2)=>circuit)))\")\n",
    "\n",
    "circuit"
   ]
  },
  {
   "cell_type": "markdown",
   "metadata": {},
   "source": [
    "This method has narrowed in on the correct value very quickly. This would be a very powerful way of determining initial values for a more refined search on noisy circuit or simply to prove that a solution exists at all.\n",
    "\n",
    "# References\n",
    "\n",
    "**Variational Quantum Eigensolver explained** - Musty Thoughts blog\n",
    "https://www.mustythoughts.com/variational-quantum-eigensolver-explained\n",
    "\n",
    "**Yao.jl** - A General Purpose Quantum Computation Simulation Framework\n",
    "https://docs.yaoquantum.org/stable/\n",
    "\n",
    "**Evolutionary.jl** Julia evolutionary algorithms package https://wildart.github.io/Evolutionary.jl/stable/"
   ]
  }
 ],
 "metadata": {
  "@webio": {
   "lastCommId": null,
   "lastKernelId": null
  },
  "kernelspec": {
   "display_name": "Julia 1.5.1",
   "language": "julia",
   "name": "julia-1.5"
  },
  "language_info": {
   "file_extension": ".jl",
   "mimetype": "application/julia",
   "name": "julia",
   "version": "1.5.1"
  }
 },
 "nbformat": 4,
 "nbformat_minor": 4
}
