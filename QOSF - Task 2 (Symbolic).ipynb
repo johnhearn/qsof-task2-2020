{
 "cells": [
  {
   "cell_type": "code",
   "execution_count": 1,
   "metadata": {},
   "outputs": [],
   "source": [
    "#]add SymPy LinearAlgebra"
   ]
  },
  {
   "cell_type": "code",
   "execution_count": 2,
   "metadata": {},
   "outputs": [
    {
     "data": {
      "text/plain": [
       "kron (generic function with 23 methods)"
      ]
     },
     "execution_count": 2,
     "metadata": {},
     "output_type": "execute_result"
    }
   ],
   "source": [
    "using SymPy\n",
    "import_from(sympy)\n",
    "\n",
    "using LinearAlgebra\n",
    "⊗=kron"
   ]
  },
  {
   "cell_type": "code",
   "execution_count": 3,
   "metadata": {},
   "outputs": [],
   "source": [
    "Zero = Sym.([1; 0])\n",
    "\n",
    "I₂ = Sym.([1 0; \n",
    "           0 1])\n",
    "\n",
    "X = Sym.([0 1; \n",
    "          1 0])\n",
    "\n",
    "Rx(θ) = [cos(θ/2)     -im*sin(θ/2);\n",
    "         -im*sin(θ/2)  cos(θ/2)]\n",
    "\n",
    "Ry(θ) = [cos(θ/2)  -sin(θ/2);\n",
    "         sin(θ/2)   cos(θ/2)]\n",
    "\n",
    "M₀ = Zero*Zero'\n",
    "\n",
    "M₁ = (X*Zero)*(X*Zero)'\n",
    "\n",
    "control(G) = M₀⊗I₂ + M₁⊗G\n",
    "\n",
    "control(X);"
   ]
  },
  {
   "cell_type": "code",
   "execution_count": 4,
   "metadata": {},
   "outputs": [
    {
     "data": {
      "text/latex": [
       "\\[ \\left[ \\begin{array}{r}- \\sin{\\left(\\frac{θ₁}{2} \\right)} \\sin{\\left(\\frac{θ₂}{2} \\right)} \\sin{\\left(\\frac{θ₃}{2} \\right)} \\sin{\\left(\\frac{θ₄}{2} \\right)} + i \\sin{\\left(\\frac{θ₁}{2} \\right)} \\sin{\\left(\\frac{θ₃}{2} \\right)} \\cos{\\left(\\frac{θ₂}{2} \\right)} \\cos{\\left(\\frac{θ₄}{2} \\right)} + i \\sin{\\left(\\frac{θ₂}{2} \\right)} \\sin{\\left(\\frac{θ₄}{2} \\right)} \\cos{\\left(\\frac{θ₁}{2} \\right)} \\cos{\\left(\\frac{θ₃}{2} \\right)} + \\cos{\\left(\\frac{θ₁}{2} \\right)} \\cos{\\left(\\frac{θ₂}{2} \\right)} \\cos{\\left(\\frac{θ₃}{2} \\right)} \\cos{\\left(\\frac{θ₄}{2} \\right)}\\\\\\sin{\\left(\\frac{θ₁}{2} \\right)} \\sin{\\left(\\frac{θ₂}{2} \\right)} \\sin{\\left(\\frac{θ₃}{2} \\right)} \\cos{\\left(\\frac{θ₄}{2} \\right)} + i \\sin{\\left(\\frac{θ₁}{2} \\right)} \\sin{\\left(\\frac{θ₃}{2} \\right)} \\sin{\\left(\\frac{θ₄}{2} \\right)} \\cos{\\left(\\frac{θ₂}{2} \\right)} - i \\sin{\\left(\\frac{θ₂}{2} \\right)} \\cos{\\left(\\frac{θ₁}{2} \\right)} \\cos{\\left(\\frac{θ₃}{2} \\right)} \\cos{\\left(\\frac{θ₄}{2} \\right)} + \\sin{\\left(\\frac{θ₄}{2} \\right)} \\cos{\\left(\\frac{θ₁}{2} \\right)} \\cos{\\left(\\frac{θ₂}{2} \\right)} \\cos{\\left(\\frac{θ₃}{2} \\right)}\\\\- \\sin{\\left(\\frac{θ₁}{2} \\right)} \\sin{\\left(\\frac{θ₂}{2} \\right)} \\cos{\\left(\\frac{θ₃}{2} \\right)} \\cos{\\left(\\frac{θ₄}{2} \\right)} - i \\sin{\\left(\\frac{θ₁}{2} \\right)} \\sin{\\left(\\frac{θ₄}{2} \\right)} \\cos{\\left(\\frac{θ₂}{2} \\right)} \\cos{\\left(\\frac{θ₃}{2} \\right)} - i \\sin{\\left(\\frac{θ₂}{2} \\right)} \\sin{\\left(\\frac{θ₃}{2} \\right)} \\cos{\\left(\\frac{θ₁}{2} \\right)} \\cos{\\left(\\frac{θ₄}{2} \\right)} + \\sin{\\left(\\frac{θ₃}{2} \\right)} \\sin{\\left(\\frac{θ₄}{2} \\right)} \\cos{\\left(\\frac{θ₁}{2} \\right)} \\cos{\\left(\\frac{θ₂}{2} \\right)}\\\\\\sin{\\left(\\frac{θ₁}{2} \\right)} \\sin{\\left(\\frac{θ₂}{2} \\right)} \\sin{\\left(\\frac{θ₄}{2} \\right)} \\cos{\\left(\\frac{θ₃}{2} \\right)} - i \\sin{\\left(\\frac{θ₁}{2} \\right)} \\cos{\\left(\\frac{θ₂}{2} \\right)} \\cos{\\left(\\frac{θ₃}{2} \\right)} \\cos{\\left(\\frac{θ₄}{2} \\right)} + i \\sin{\\left(\\frac{θ₂}{2} \\right)} \\sin{\\left(\\frac{θ₃}{2} \\right)} \\sin{\\left(\\frac{θ₄}{2} \\right)} \\cos{\\left(\\frac{θ₁}{2} \\right)} + \\sin{\\left(\\frac{θ₃}{2} \\right)} \\cos{\\left(\\frac{θ₁}{2} \\right)} \\cos{\\left(\\frac{θ₂}{2} \\right)} \\cos{\\left(\\frac{θ₄}{2} \\right)}\\end{array} \\right] \\]"
      ],
      "text/plain": [
       "4-element Array{Sym,1}:\n",
       " -sin(θ₁/2)*sin(θ₂/2)*sin(θ₃/2)*sin(θ₄/2) + I*sin(θ₁/2)*sin(θ₃/2)*cos(θ₂/2)*cos(θ₄/2) + I*sin(θ₂/2)*sin(θ₄/2)*cos(θ₁/2)*cos(θ₃/2) + cos(θ₁/2)*cos(θ₂/2)*cos(θ₃/2)*cos(θ₄/2)\n",
       "  sin(θ₁/2)*sin(θ₂/2)*sin(θ₃/2)*cos(θ₄/2) + I*sin(θ₁/2)*sin(θ₃/2)*sin(θ₄/2)*cos(θ₂/2) - I*sin(θ₂/2)*cos(θ₁/2)*cos(θ₃/2)*cos(θ₄/2) + sin(θ₄/2)*cos(θ₁/2)*cos(θ₂/2)*cos(θ₃/2)\n",
       " -sin(θ₁/2)*sin(θ₂/2)*cos(θ₃/2)*cos(θ₄/2) - I*sin(θ₁/2)*sin(θ₄/2)*cos(θ₂/2)*cos(θ₃/2) - I*sin(θ₂/2)*sin(θ₃/2)*cos(θ₁/2)*cos(θ₄/2) + sin(θ₃/2)*sin(θ₄/2)*cos(θ₁/2)*cos(θ₂/2)\n",
       "  sin(θ₁/2)*sin(θ₂/2)*sin(θ₄/2)*cos(θ₃/2) - I*sin(θ₁/2)*cos(θ₂/2)*cos(θ₃/2)*cos(θ₄/2) + I*sin(θ₂/2)*sin(θ₃/2)*sin(θ₄/2)*cos(θ₁/2) + sin(θ₃/2)*cos(θ₁/2)*cos(θ₂/2)*cos(θ₄/2)"
      ]
     },
     "execution_count": 4,
     "metadata": {},
     "output_type": "execute_result"
    }
   ],
   "source": [
    "@vars θ₁ θ₂ θ₃ θ₄\n",
    "ψ = control(X) * (Ry(θ₃)⊗Ry(θ₄)) * (Rx(θ₁)⊗Rx(θ₂)) * (Zero⊗Zero)"
   ]
  },
  {
   "cell_type": "code",
   "execution_count": 5,
   "metadata": {},
   "outputs": [
    {
     "data": {
      "text/latex": [
       "\\[ \\left[ \\begin{array}{r}0\\\\\\frac{\\sqrt{2}}{2}\\\\\\frac{\\sqrt{2}}{2}\\\\0\\end{array} \\right] \\]"
      ],
      "text/plain": [
       "4-element Array{Sym,1}:\n",
       "         0\n",
       " sqrt(2)/2\n",
       " sqrt(2)/2\n",
       "         0"
      ]
     },
     "execution_count": 5,
     "metadata": {},
     "output_type": "execute_result"
    }
   ],
   "source": [
    "ψ = [ψ[i](θ₁=>Sym(π), θ₂=>Sym(π), θ₃=>3*Sym(π)/2, θ₄=>0) for i in 1:4]"
   ]
  },
  {
   "cell_type": "code",
   "execution_count": 6,
   "metadata": {},
   "outputs": [
    {
     "data": {
      "text/plain": [
       "(0, 1/2, 1/2, 0)"
      ]
     },
     "execution_count": 6,
     "metadata": {},
     "output_type": "execute_result"
    }
   ],
   "source": [
    "ψ'*(M₀⊗M₀)*ψ, ψ'*(M₀⊗M₁)*ψ, ψ'*(M₁⊗M₀)*ψ, ψ'*(M₁⊗M₁)*ψ"
   ]
  },
  {
   "cell_type": "markdown",
   "metadata": {},
   "source": [
    "Checked in [Quirk](https://algassert.com/quirk#circuit=%7B%22cols%22%3A%5B%5B%7B%22id%22%3A%22Rxft%22%2C%22arg%22%3A%22pi%22%7D%2C%7B%22id%22%3A%22Rxft%22%2C%22arg%22%3A%22pi%22%7D%5D%2C%5B%7B%22id%22%3A%22Ryft%22%2C%22arg%22%3A%223*pi%2F2%22%7D%5D%2C%5B%5D%2C%5B%22%E2%80%A2%22%2C%22X%22%5D%2C%5B%22Measure%22%2C%22Measure%22%5D%2C%5B%22Chance2%22%5D%2C%5B%22Density2%22%5D%5D%7D)"
   ]
  },
  {
   "cell_type": "code",
   "execution_count": null,
   "metadata": {},
   "outputs": [],
   "source": []
  }
 ],
 "metadata": {
  "@webio": {
   "lastCommId": null,
   "lastKernelId": null
  },
  "kernelspec": {
   "display_name": "Julia 1.5.1",
   "language": "julia",
   "name": "julia-1.5"
  },
  "language_info": {
   "file_extension": ".jl",
   "mimetype": "application/julia",
   "name": "julia",
   "version": "1.5.1"
  }
 },
 "nbformat": 4,
 "nbformat_minor": 4
}
