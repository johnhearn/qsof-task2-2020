{
 "cells": [
  {
   "cell_type": "markdown",
   "metadata": {},
   "source": [
    "# QSOF - Task 2 - Bonus Question\n",
    "This was the original problem statement:\n",
    "\n",
    "> Implement a circuit that returns |01> and |10> with equal probability.\n",
    ">\n",
    "> Requirements :\n",
    "- The circuit should consist only of CNOTs, RXs and RYs. \n",
    "- Start from all parameters in parametric gates being equal to 0 or randomly chosen. \n",
    "- You should find the right set of parameters using gradient descent (you can use more advanced optimization methods if you like). \n",
    "- Simulations must be done with sampling - i.e. a limited number of measurements per iteration and noise. \n",
    ">\n",
    "> Compare the results for different numbers of measurements: 1, 10, 100, 1000. \n",
    ">\n",
    "> **Bonus question:**\n",
    ">\n",
    "> **How to make sure you produce state |01> + |10> and not |01> - |10> ?**\n",
    "\n",
    "I tackled the first part of the problem in [another notebook](QOSF%20-%20Task%202%20%28with%20QisKit%29.ipynb) using a variational method. \n",
    "\n",
    "In this notebook I want to use the bonus question to understand the theory behind Variational Quantum Eigensolvers (VQE) in more detail. Also this time I've used the [Julia programming language](https://julialang.org/) which I've been learning as an alternative to Python and offers great support for numerial computing research.\n",
    "\n",
    "## Some theory\n",
    "\n",
    "For a given state $\\psi$, quantum mechanics tells us that the expectation value $E(\\psi)$ of an operator $H$ is a scalar measure of the projection of the state onto the operator's basis: \n",
    "$E(\\psi) =\\langle \\psi|H|\\psi \\rangle$ \n",
    "\n",
    "So to generate a desired state with high probability with respect to H, we would want to _maximise_ the projection of the state $\\psi$ onto H. In other words, to find a state for which the expectation of finding it when measured in H's basis is as close to 1 as possible:\n",
    "$\\langle \\psi|H|\\psi \\rangle \\approx 1$\n",
    "\n",
    "For this to be true, it's _sufficient_ that: \n",
    "$H=|\\psi\\rangle \\langle\\psi|$\n",
    "\n",
    "Which can be seen by substitution:\n",
    "$\\langle \\psi|H|\\psi \\rangle = \\langle \\psi|\\psi\\rangle \\langle\\psi|\\psi \\rangle = 1$\n",
    "\n",
    "----\n",
    "\n",
    "In our case, the eigenstate we're looking for is: \n",
    "$\\psi = \\frac{1}{\\sqrt{2}}(|01\\rangle + |10\\rangle)$\n",
    "\n",
    "An therefore the operator would be: \n",
    "$\n",
    "H=\\frac{1}{2}\\begin{bmatrix}\n",
    "0 & 0 & 0 & 0 \\\\\n",
    "0 & 1 & 1 & 0 \\\\\n",
    "0 & 1 & 1 & 0 \\\\\n",
    "0 & 0 & 0 & 0\n",
    "\\end{bmatrix}\n",
    "$\n",
    "\n",
    "This line of reasoning is easy to check with [Wolfram Alpha](https://www.wolframalpha.com/input/?i=eigenvectors+0.5*%7B%7B0%2C0%2C0%2C0%7D%2C%7B0%2C1%2C1%2C0%7D%2C%7B0%2C1%2C1%2C0%7D%2C%7B0%2C0%2C0%2C0%7D%7D) or numerically in Julia:"
   ]
  },
  {
   "cell_type": "code",
   "execution_count": 1,
   "metadata": {},
   "outputs": [
    {
     "data": {
      "text/plain": [
       "Eigen{Complex{Float64},Float64,Array{Complex{Float64},2},Array{Float64,1}}\n",
       "values:\n",
       "4-element Array{Float64,1}:\n",
       " 0.0\n",
       " 0.0\n",
       " 5.551115123125783e-16\n",
       " 1.0000000000000002\n",
       "vectors:\n",
       "4×4 Array{Complex{Float64},2}:\n",
       " 1.0+0.0im  0.0+0.0im        0.0+0.0im       0.0+0.0im\n",
       " 0.0+0.0im  0.0+0.0im   0.707107+0.0im  0.707107-0.0im\n",
       " 0.0+0.0im  0.0+0.0im  -0.707107-0.0im  0.707107+0.0im\n",
       " 0.0+0.0im  1.0+0.0im        0.0+0.0im       0.0+0.0im"
      ]
     },
     "execution_count": 1,
     "metadata": {},
     "output_type": "execute_result"
    }
   ],
   "source": [
    "# Uncomment the first time you run this notebook\n",
    "#]add StatsBase LinearAlgebra Yao Evolutionary\n",
    "\n",
    "using LinearAlgebra\n",
    "\n",
    "ψ = sqrt(0.5)*[0, 1 + 0im, 1 + 0im, 0]\n",
    "H = ψ*ψ'\n",
    "\n",
    "eigen(H)"
   ]
  },
  {
   "cell_type": "markdown",
   "metadata": {},
   "source": [
    "The eigenvalues of the matrix are ${0,0,0,1}$ with the only non-zero eigenvalue corresponding to the state we're looking for. So the problem is to generate, with an ansatz, an approximation to the eigenstate which corresponds to the largest eigenvalue of this operator, or equivalently, to minimise the negative of the eigenvalue.\n",
    "\n",
    "Now, if we can find a way to optimise the parameters of our ansatz based on this expectation value instead of using the probability distribution distance metric then we will be approximating the exact target state rather than just the target distribution. Therefore we'll be sure to produce $|01\\rangle + |10\\rangle$ rather than $|01\\rangle - |10\\rangle$!\n",
    "\n",
    "Let's try it out in practice. I'm going to use the [Yao.jl](https://yaoquantum.org/) which is a nice quantum simulator written for Julia. First we prepare the environment and some simple convenience methods:"
   ]
  },
  {
   "cell_type": "code",
   "execution_count": 2,
   "metadata": {},
   "outputs": [],
   "source": [
    "using Yao\n",
    "using StatsBase: mean\n",
    "\n",
    "# A function to round displayed results so they0re easier to understand\n",
    "rounded(x) = round(x;digits=3);"
   ]
  },
  {
   "cell_type": "markdown",
   "metadata": {},
   "source": [
    "## The ansatz\n",
    "\n",
    "We can define the ansatz as [before](QOSF%20-%20Task%202%20(with%20QisKit).ipynb#1.-Designing-and-testing-the-ansatz). The parameters are given by the array $\\theta$:"
   ]
  },
  {
   "cell_type": "code",
   "execution_count": 3,
   "metadata": {},
   "outputs": [
    {
     "data": {
      "text/plain": [
       "\u001b[36mnqubits: 2\u001b[39m\n",
       "\u001b[34m\u001b[1mchain\u001b[22m\u001b[39m\n",
       "├─ \u001b[36m\u001b[1mput on (\u001b[22m\u001b[39m\u001b[36m\u001b[1m1\u001b[22m\u001b[39m\u001b[36m\u001b[1m)\u001b[22m\u001b[39m\n",
       "│  └─ rot(X, 1.5707963267948966)\n",
       "├─ \u001b[36m\u001b[1mput on (\u001b[22m\u001b[39m\u001b[36m\u001b[1m2\u001b[22m\u001b[39m\u001b[36m\u001b[1m)\u001b[22m\u001b[39m\n",
       "│  └─ rot(X, 1.5707963267948966)\n",
       "├─ \u001b[36m\u001b[1mput on (\u001b[22m\u001b[39m\u001b[36m\u001b[1m1\u001b[22m\u001b[39m\u001b[36m\u001b[1m)\u001b[22m\u001b[39m\n",
       "│  └─ rot(Y, 1.5707963267948966)\n",
       "├─ \u001b[36m\u001b[1mput on (\u001b[22m\u001b[39m\u001b[36m\u001b[1m2\u001b[22m\u001b[39m\u001b[36m\u001b[1m)\u001b[22m\u001b[39m\n",
       "│  └─ rot(Y, 1.5707963267948966)\n",
       "└─ \u001b[31m\u001b[1mcontrol(\u001b[22m\u001b[39m\u001b[31m\u001b[1m1\u001b[22m\u001b[39m\u001b[31m\u001b[1m)\u001b[22m\u001b[39m\n",
       "   └─ \u001b[37m\u001b[1m(2,)\u001b[22m\u001b[39m X\n"
      ]
     },
     "execution_count": 3,
     "metadata": {},
     "output_type": "execute_result"
    }
   ],
   "source": [
    "ansatz(θ) = chain(2, \n",
    "                put(1 => Rx(θ[1])),\n",
    "                put(2 => Rx(θ[2])), \n",
    "                put(1 => Ry(θ[3])),\n",
    "                put(2 => Ry(θ[4])),\n",
    "                control(1, 2 => X))\n",
    "\n",
    "ansatz([π/2,π/2,π/2,π/2])"
   ]
  },
  {
   "cell_type": "markdown",
   "metadata": {},
   "source": [
    "## The objective function\n",
    "\n",
    "To perform the optimisation the Yao simulator conveniently allows us to measure in any basis we like so the objective function directly measures the result of the ansatz in the H basis using the `matblock` function to convert our Hamiltonian to a unitary operator. This is cheating a bit but we'll come back to how to do this on a real device using the computational basis a bit later."
   ]
  },
  {
   "cell_type": "code",
   "execution_count": 4,
   "metadata": {},
   "outputs": [
    {
     "data": {
      "text/plain": [
       "objective_function (generic function with 1 method)"
      ]
     },
     "execution_count": 4,
     "metadata": {},
     "output_type": "execute_result"
    }
   ],
   "source": [
    "measure_H_basis(nshots) = r -> measure(matblock(H), r; nshots=nshots)\n",
    "\n",
    "# Generate the state and measure in H basis then take the negative\n",
    "objective_function(θ; nshots=100) = \n",
    "    zero_state(2) |> ansatz(θ) |> measure_H_basis(nshots) |> mean |> -"
   ]
  },
  {
   "cell_type": "markdown",
   "metadata": {},
   "source": [
    "# Training\n",
    "\n",
    "In the previous notebook we used gradient based optimisation to train the circuit. This time, just for a change, we'll use an evolutionary algorithm to do the same. Julia has an excellent package called [Evolutionary.jl](https://wildart.github.io/Evolutionary.jl/stable/) which is very easy to use. We just import the package, pass in the objective function and the initial parameters and let it go. We tell it to use [CMA-ES](https://wildart.github.io/Evolutionary.jl/stable/cmaes/) as the evolution strategy which seems to work quite nicely."
   ]
  },
  {
   "cell_type": "code",
   "execution_count": 5,
   "metadata": {},
   "outputs": [
    {
     "data": {
      "text/plain": [
       "\n",
       " * Status: success\n",
       "\n",
       " * Candidate solution\n",
       "    Minimizer:  [6.350566447785466, 6.277935892236361, 1.5829698698036074,  ...]\n",
       "    Minimum:    -0.9900000000000001\n",
       "    Iterations: 62\n",
       "\n",
       " * Found with\n",
       "    Algorithm: (15,30)-CMA-ES\n"
      ]
     },
     "execution_count": 5,
     "metadata": {},
     "output_type": "execute_result"
    }
   ],
   "source": [
    "using Evolutionary\n",
    "\n",
    "res = Evolutionary.optimize(\n",
    "            objective_function, \n",
    "            rand(4)*2π, \n",
    "            CMAES(),\n",
    "            Evolutionary.Options(iterations=200, reltol=0.001))"
   ]
  },
  {
   "cell_type": "code",
   "execution_count": 6,
   "metadata": {},
   "outputs": [
    {
     "data": {
      "text/plain": [
       "4-element Array{Complex{Float64},1}:\n",
       " 0.024 - 0.001im\n",
       " 0.711 - 0.024im\n",
       " 0.702 + 0.024im\n",
       " 0.024 - 0.003im"
      ]
     },
     "execution_count": 6,
     "metadata": {},
     "output_type": "execute_result"
    }
   ],
   "source": [
    "θopt = Evolutionary.minimizer(res)\n",
    "ψ = zero_state(2) |> ansatz(θopt) |> statevec .|> rounded"
   ]
  },
  {
   "cell_type": "markdown",
   "metadata": {},
   "source": [
    "It gives us an approximation to the state we were asked for including a random global phase which we could factor out if we wanted."
   ]
  },
  {
   "cell_type": "code",
   "execution_count": 7,
   "metadata": {},
   "outputs": [
    {
     "data": {
      "text/plain": [
       "4-element Array{Complex{Float64},1}:\n",
       " 0.024 - 0.0im\n",
       " 0.711 + 0.0im\n",
       " 0.701 + 0.048im\n",
       " 0.024 - 0.002im"
      ]
     },
     "execution_count": 7,
     "metadata": {},
     "output_type": "execute_result"
    }
   ],
   "source": [
    "normalize(ψ/ψ[2]) .|> rounded"
   ]
  },
  {
   "cell_type": "markdown",
   "metadata": {},
   "source": [
    "## Measuring in the computational basis\n",
    "\n",
    "So the theory seems to work but we still have a problem because most quantum devices only allow measurement in the computational basis. This means that somehow we have to rotate the results from the Hamiltonian basis back to the computational basis to be able to perform the measurement. It turns out that we can reduce H to a sequence of [Pauli matrix operations](https://en.wikipedia.org/wiki/Pauli_matrices):\n",
    "\n",
    "$$4H = I\\otimes I+X\\otimes X+Y\\otimes Y-Z\\otimes Z$$\n",
    "\n",
    "Since the expectation is linear we can evaluate it for each term individually and then add them at the end. It looks like this:\n",
    "$$4\\langle \\psi|H|\\psi \\rangle = \\langle \\psi|I\\otimes I|\\psi \\rangle + \\langle \\psi|X\\otimes X|\\psi \\rangle + \\langle \\psi|Y\\otimes Y|\\psi \\rangle - \\langle \\psi|Z\\otimes Z|\\psi \\rangle$$\n",
    "\n",
    "Or, more concisely as:\n",
    "$$4\\langle H \\rangle = \\langle I\\otimes I \\rangle + \\langle X\\otimes X \\rangle + \\langle Y\\otimes Y \\rangle - \\langle Z\\otimes Z \\rangle$$\n",
    "\n",
    "We can then use the following identity and apply it to each term in turn:\n",
    "$$\n",
    "\\langle \\psi_1\\otimes \\psi_2 |U_1\\otimes U_2|\\psi_1\\otimes \\psi_2 \\rangle = \n",
    "\\langle \\psi_1 |U_1|\\psi_1 \\rangle\n",
    "\\langle \\psi_2 |U_2|\\psi_2 \\rangle\n",
    "$$\n",
    "\n",
    "It's immediately clear from this identity that the expectation of $I$ is simply the constant 1 (the inner product of two vectors with themselves). It also tells us that the expectation of the XX, YY and ZZ terms is the product of the expectations of the individual measurements.\n",
    "\n",
    "The XX and YY terms also need [additional rotations](https://www.mustythoughts.com/variational-quantum-eigensolver-explained) to align them with the computational basis for measurement. The ZZ term needs no rotation because it's already in the right basis but notice the `-` sign which is a factor to be applied to the final expectation sum. \n",
    "\n",
    "Finally, we want to find the expectation with respect to the Z operator eigenstates rather than the computational basis measurements. To do that we must transform the measurements $\\{0,1\\}$ to the Z-basis eigenvalues $\\{1,-1\\}$, respectively, such that $0 \\Rightarrow 1$ and $1 \\Rightarrow -1$."
   ]
  },
  {
   "cell_type": "code",
   "execution_count": 8,
   "metadata": {
    "scrolled": false
   },
   "outputs": [
    {
     "data": {
      "text/plain": [
       "\n",
       " * Status: success\n",
       "\n",
       " * Candidate solution\n",
       "    Minimizer:  [3.119950655610562, 3.101673288820813, 4.718870260541731,  ...]\n",
       "    Minimum:    -1.98\n",
       "    Iterations: 97\n",
       "\n",
       " * Found with\n",
       "    Algorithm: (15,30)-CMA-ES\n"
      ]
     },
     "execution_count": 8,
     "metadata": {},
     "output_type": "execute_result"
    }
   ],
   "source": [
    "XX = repeat(2, Ry(-π/2))\n",
    "YY = repeat(2, Rx(π/2))\n",
    "ZZ = repeat(2, I2)\n",
    "\n",
    "# Convert a measurement {true,false} to Z-operator basis {-1,1}\n",
    "to_Z_basis(c) = c==0 ? 1 : -1\n",
    "\n",
    "# Measure a state multiple times and convert \n",
    "measure_Z_basis(ψ) = measure(ψ; nshots=100) .|> c -> to_Z_basis(c[1])*to_Z_basis(c[2])\n",
    "\n",
    "# Calculate the expectation for a particular term, applying appropriate rotation before measurement\n",
    "expectation_for_term(term_rotation) =\n",
    "    θ -> zero_state(2) |> ansatz(θ) |> term_rotation |> measure_Z_basis |> mean |> -\n",
    "\n",
    "expectation(θ) = \n",
    "    1 + expectation_for_term(XX)(θ) + expectation_for_term(YY)(θ) - expectation_for_term(ZZ)(θ)\n",
    "\n",
    "res = Evolutionary.optimize(\n",
    "        expectation,\n",
    "        rand(4)*2π, \n",
    "        CMAES(),\n",
    "        Evolutionary.Options(iterations=200, reltol=0.001))"
   ]
  },
  {
   "cell_type": "markdown",
   "metadata": {},
   "source": [
    "To check the result we run the ansatz with the optimised parameters and normalise it to remove the global phase."
   ]
  },
  {
   "cell_type": "code",
   "execution_count": 9,
   "metadata": {},
   "outputs": [
    {
     "data": {
      "text/plain": [
       "4-element Array{Complex{Float64},1}:\n",
       " -0.003 + 0.014im\n",
       "  0.709 - 0.0im\n",
       "  0.705 + 0.015im\n",
       " -0.003 + 0.014im"
      ]
     },
     "execution_count": 9,
     "metadata": {},
     "output_type": "execute_result"
    }
   ],
   "source": [
    "θopt = Evolutionary.minimizer(res)\n",
    "ψ = zero_state(2) |> ansatz(θopt) |> statevec\n",
    "normalize(ψ/ψ[2]) .|> rounded"
   ]
  },
  {
   "cell_type": "markdown",
   "metadata": {},
   "source": [
    "This is a very good approximation to the H based measurement. We can even run these parameters through the original objective function and get a perfect agreement."
   ]
  },
  {
   "cell_type": "code",
   "execution_count": 10,
   "metadata": {},
   "outputs": [
    {
     "data": {
      "text/plain": [
       "-1.0000000000000002"
      ]
     },
     "execution_count": 10,
     "metadata": {},
     "output_type": "execute_result"
    }
   ],
   "source": [
    "objective_function(θopt)"
   ]
  },
  {
   "cell_type": "markdown",
   "metadata": {},
   "source": [
    "# Conclusions\n",
    "\n",
    "This notebook takes a closer look at the maths behind the VQE solution to the original problem. We used transformations of the measurement basis to estimate the expectation value with respect to the target state and used it as the objective function for training.\n",
    "\n",
    "With this more rigourous approach we can differentiate between states which would otherwise result in the same measurement probability distribution.\n",
    "\n",
    "In this notebook we used an evolutionary optimiser instead of a gradient based one and it performed very well. It was usually able to get good results within 100 or so iterations without ans specific tuning. Like the previous notebook, it'd be interesting to systematically compare the performance of this optimisation schemes.\n",
    "\n",
    "This optimisation is not done in the presence of noise. I couldn't find a simple way to add a noise model as can be done in QisKit (maybe something that could be done as a separate project?)\n",
    "\n",
    "\n",
    "# References\n",
    "\n",
    "**Variational Quantum Eigensolver explained** - Musty Thoughts blog\n",
    "https://www.mustythoughts.com/variational-quantum-eigensolver-explained\n",
    "\n",
    "**Variational Quantum Eigensolver** (Excellent worked example) - Davit Khachatryan\n",
    "https://nbviewer.jupyter.org/github/DavitKhach/quantum-algorithms-tutorials/blob/master/variational_quantum_eigensolver.ipynb\n",
    "\n",
    "**Yao.jl** - A General Purpose Quantum Computation Simulation Framework\n",
    "https://docs.yaoquantum.org/stable/\n",
    "\n",
    "**Evolutionary.jl** Julia evolutionary algorithms package https://wildart.github.io/Evolutionary.jl/stable/\n",
    "\n",
    "**Basic Quantum Mechanics** - Klaus Ziock (1969)"
   ]
  },
  {
   "cell_type": "code",
   "execution_count": null,
   "metadata": {},
   "outputs": [],
   "source": []
  }
 ],
 "metadata": {
  "@webio": {
   "lastCommId": null,
   "lastKernelId": null
  },
  "kernelspec": {
   "display_name": "Julia 1.5.1",
   "language": "julia",
   "name": "julia-1.5"
  },
  "language_info": {
   "file_extension": ".jl",
   "mimetype": "application/julia",
   "name": "julia",
   "version": "1.5.1"
  }
 },
 "nbformat": 4,
 "nbformat_minor": 4
}
