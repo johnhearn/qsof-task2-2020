{
 "cells": [
  {
   "cell_type": "markdown",
   "metadata": {},
   "source": [
    "# QSOF - Task 2\n",
    "\n",
    "Implement a circuit that returns |01> and |10> with equal probability.\n",
    "\n",
    "Requirements :\n",
    "- The circuit should consist only of CNOTs, RXs and RYs. \n",
    "- Start from all parameters in parametric gates being equal to 0 or randomly chosen. \n",
    "- You should find the right set of parameters using gradient descent (you can use more advanced optimization methods if you like). \n",
    "- Simulations must be done with sampling - i.e. a limited number of measurements per iteration and noise. \n",
    "\n",
    "Compare the results for different numbers of measurements: 1, 10, 100, 1000. \n",
    "\n",
    "Bonus question:\n",
    "How to make sure you produce state |01> + |10> and not |01> - |10> ?\n",
    "\n",
    "\n",
    "## My approach\n",
    "\n",
    "After reading up on variational methods it seems that the simplest approach is to:\n",
    "\n",
    "1. [Create a parameterisable circuit](#1.-Designing-and-testing-the-ansatz) (ansatz) using the restricted gate set\n",
    "2. [Define the target probability distribution](#2.-Define-the-target-distribution)\n",
    "3. [Use some kind of optimisation algorithm](#3.-Training) to modify the parameters to approximate as closely as possible the target distribution.\n",
    "4. [Compare results](#4.-Comparing-results) with different numbers of measurements in each optimisation run.\n",
    "\n",
    "After setting up a suitable programming environment, this notebook takes us through the above steps. I'll use QisKit since it's the Python library with which I'm most familiar. First we'll need to initialise the environment and a simulator with a suitable noise model.\n",
    "\n",
    "# 0. Setting up the environment"
   ]
  },
  {
   "cell_type": "code",
   "execution_count": 1,
   "metadata": {},
   "outputs": [
    {
     "data": {
      "text/plain": [
       "{'qiskit-terra': '0.15.1',\n",
       " 'qiskit-aer': '0.6.1',\n",
       " 'qiskit-ignis': '0.4.0',\n",
       " 'qiskit-ibmq-provider': '0.8.0',\n",
       " 'qiskit-aqua': '0.7.5',\n",
       " 'qiskit': '0.20.0'}"
      ]
     },
     "execution_count": 1,
     "metadata": {},
     "output_type": "execute_result"
    }
   ],
   "source": [
    "#pip3 install qiskit, matplotlib\n",
    "\n",
    "import qiskit\n",
    "qiskit.__qiskit_version__"
   ]
  },
  {
   "cell_type": "markdown",
   "metadata": {},
   "source": [
    "## Initialise the simulator\n",
    "\n",
    "Define a backend to use. We'll be sampling over a noisy circuit in order to optimise the parameters so its appropriate to use the Aer simulator."
   ]
  },
  {
   "cell_type": "code",
   "execution_count": 2,
   "metadata": {},
   "outputs": [],
   "source": [
    "from qiskit import Aer\n",
    "\n",
    "backend = Aer.get_backend('qasm_simulator')"
   ]
  },
  {
   "cell_type": "markdown",
   "metadata": {},
   "source": [
    "## Define a noise model\n",
    "\n",
    "One of the stated aims of the task is to train in the presence of noise. Here we build a noise model for our experiment. This is taken from the QisKit [example](https://qiskit.org/documentation/apidoc/aer_noise.html) and I'm not really sure if it's realistic or not. An alternative is to use approximate noise model for a physical device. As the task indicates, we are restricted to using $RX(\\theta)$, $RY(\\theta)$ and $CX$ gates only."
   ]
  },
  {
   "cell_type": "code",
   "execution_count": 3,
   "metadata": {},
   "outputs": [
    {
     "name": "stdout",
     "output_type": "stream",
     "text": [
      "NoiseModel:\n",
      "  Basis gates: ['cx', 'id', 'u3']\n",
      "  Instructions with noise: ['rx', 'cx', 'ry']\n",
      "  All-qubits errors: ['rx', 'ry', 'cx']\n"
     ]
    }
   ],
   "source": [
    "import qiskit.providers.aer.noise as noise\n",
    "\n",
    "# Error probabilities\n",
    "prob_1 = 0.001  # 1-qubit gate\n",
    "prob_2 = 0.01   # 2-qubit gate\n",
    "\n",
    "# Depolarizing quantum errors\n",
    "error_1 = noise.depolarizing_error(prob_1, 1)\n",
    "error_2 = noise.depolarizing_error(prob_2, 2)\n",
    "\n",
    "# Add errors to noise model\n",
    "noise_model = noise.NoiseModel()\n",
    "noise_model.add_all_qubit_quantum_error(error_1, ['rx', 'ry'])\n",
    "noise_model.add_all_qubit_quantum_error(error_2, ['cx'])\n",
    "\n",
    "print(noise_model)"
   ]
  },
  {
   "cell_type": "markdown",
   "metadata": {},
   "source": [
    "## Executing the circuit\n",
    "\n",
    "We'll need to execute the circuit many times with different parameters to perform the optimisations. Rather than do this directly every time I'll define an `experiment()` function here to execute the circuit with the given number of measurements. \n",
    "\n",
    "The result counts from QisKit are returned as a dictionary with the states as the keys. I have found it helpful to extract a function which normalises those results so they can be compared easily with the the target distribution."
   ]
  },
  {
   "cell_type": "code",
   "execution_count": 4,
   "metadata": {},
   "outputs": [],
   "source": [
    "from qiskit import execute\n",
    "from qiskit.visualization import plot_histogram\n",
    "\n",
    "def normalise(counts):\n",
    "    normed_distr = dict()\n",
    "    total = math.sqrt(sum([c*c for c in counts.values()]))\n",
    "    for key in [\"00\",\"01\",\"10\",\"11\"]:\n",
    "        normed_distr[key] = counts.get(key, 0.0)/total\n",
    "    return normed_distr\n",
    "\n",
    "def experiment(qc, shots):\n",
    "    result = execute(qc, backend, noise_model=noise_model, shots=shots).result()\n",
    "    return normalise(result.get_counts())"
   ]
  },
  {
   "cell_type": "markdown",
   "metadata": {},
   "source": [
    "# 1. Designing and testing the ansatz\n",
    "\n",
    "The ansatz is the parameterisable circuit which will be trained to produce the desired state. In this case we create a simple circuit using the restricted gate set and only a single CNOT. If we can't find convergence with this circuit we can always try a more complicated one."
   ]
  },
  {
   "cell_type": "code",
   "execution_count": 5,
   "metadata": {},
   "outputs": [],
   "source": [
    "from qiskit import QuantumCircuit, ClassicalRegister, QuantumRegister\n",
    "\n",
    "def ansatz(params):\n",
    "    qr = QuantumRegister(2, name=\"q\")\n",
    "    cr = ClassicalRegister(2, name='c')\n",
    "    qc = QuantumCircuit(qr, cr)\n",
    "    \n",
    "    qc.rx(params[0], qr[0])\n",
    "    qc.rx(params[1], qr[1])\n",
    "    qc.ry(params[2], qr[0])\n",
    "    qc.ry(params[3], qr[1])\n",
    "    qc.cx(qr[0], qr[1])\n",
    "    qc.measure(qr[0], cr[0])\n",
    "    qc.measure(qr[1], cr[1])\n",
    "    return qc"
   ]
  },
  {
   "cell_type": "markdown",
   "metadata": {},
   "source": [
    "As a quick test, apply rotations of $\\frac{\\pi}{2}$ which should give equal probabilities for all possible results when measured. We can also plot both the circuit and the results of a measurement to check them visually."
   ]
  },
  {
   "cell_type": "code",
   "execution_count": 6,
   "metadata": {},
   "outputs": [
    {
     "data": {
      "text/html": [
       "<pre style=\"word-wrap: normal;white-space: pre;background: #fff0;line-height: 1.1;font-family: &quot;Courier New&quot;,Courier,monospace\">     ┌──────────┐┌──────────┐     ┌─┐   \n",
       "q_0: ┤ RX(pi/2) ├┤ RY(pi/2) ├──■──┤M├───\n",
       "     ├──────────┤├──────────┤┌─┴─┐└╥┘┌─┐\n",
       "q_1: ┤ RX(pi/2) ├┤ RY(pi/2) ├┤ X ├─╫─┤M├\n",
       "     └──────────┘└──────────┘└───┘ ║ └╥┘\n",
       "c: 2/══════════════════════════════╩══╩═\n",
       "                                   0  1 </pre>"
      ],
      "text/plain": [
       "     ┌──────────┐┌──────────┐     ┌─┐   \n",
       "q_0: ┤ RX(pi/2) ├┤ RY(pi/2) ├──■──┤M├───\n",
       "     ├──────────┤├──────────┤┌─┴─┐└╥┘┌─┐\n",
       "q_1: ┤ RX(pi/2) ├┤ RY(pi/2) ├┤ X ├─╫─┤M├\n",
       "     └──────────┘└──────────┘└───┘ ║ └╥┘\n",
       "c: 2/══════════════════════════════╩══╩═\n",
       "                                   0  1 "
      ]
     },
     "execution_count": 6,
     "metadata": {},
     "output_type": "execute_result"
    }
   ],
   "source": [
    "import math\n",
    "import numpy as np\n",
    "\n",
    "pi = math.pi\n",
    "\n",
    "params = np.array([pi/2, pi/2, pi/2, pi/2])\n",
    "qc = ansatz(params)\n",
    "qc.draw()"
   ]
  },
  {
   "cell_type": "code",
   "execution_count": 7,
   "metadata": {},
   "outputs": [
    {
     "data": {
      "image/png": "[encoded data removed]",
      "text/plain": [
       "<Figure size 504x360 with 1 Axes>"
      ]
     },
     "execution_count": 7,
     "metadata": {},
     "output_type": "execute_result"
    }
   ],
   "source": [
    "plot_histogram(experiment(ansatz(params), 10000))"
   ]
  },
  {
   "cell_type": "markdown",
   "metadata": {},
   "source": [
    "This is exactly the result we expect!\n",
    "\n",
    "\n",
    "\n",
    "# 2. Define the target distribution\n",
    "\n",
    "After that preparatory work we're now in a position to tackle the problem at hand. The task is to train a circuit (the ansatz defined above) so that it returns |01> and |10> with equal probability (and no other, presumably). We define the target distribution as the normalised state with those probabilities."
   ]
  },
  {
   "cell_type": "code",
   "execution_count": 8,
   "metadata": {},
   "outputs": [
    {
     "name": "stdout",
     "output_type": "stream",
     "text": [
      "{'00': 0.0, '01': 0.7071067811865475, '10': 0.7071067811865475, '11': 0.0}\n"
     ]
    }
   ],
   "source": [
    "target_distr = normalise({\"01\": 1, \"10\": 1})\n",
    "print(target_distr)"
   ]
  },
  {
   "cell_type": "markdown",
   "metadata": {},
   "source": [
    "## The objective function¶\n",
    "\n",
    "The task asks us to train with different number of measurements to compare the difference. Intuition suggests that it will be harder to train with less measurements because the results will have higher variance. In any case we'll define that value globally so it can be changed easily."
   ]
  },
  {
   "cell_type": "code",
   "execution_count": 9,
   "metadata": {},
   "outputs": [],
   "source": [
    "number_of_measurements = 1000"
   ]
  },
  {
   "cell_type": "markdown",
   "metadata": {},
   "source": [
    "A simple [objective function](https://en.wikipedia.org/wiki/Objective_function) for the training will be the [Manhatten distance](https://en.wikipedia.org/wiki/Taxicab_geometry) to the target distribution. Minimising this function will result in an ansatz that is a good approximation. There are a million other distance measure we could choose here but this one is simple and, I think, suitable for this situation. The implementation assumes that all the values are in the distribution which is the case for the normalised distributions."
   ]
  },
  {
   "cell_type": "code",
   "execution_count": 10,
   "metadata": {},
   "outputs": [],
   "source": [
    "def manhatten_distance(first_distr, second_distr):\n",
    "    return sum([np.abs(first_distr[key] - second_distr[key]) for key in target_distr.keys()])\n",
    "\n",
    "def objective_function(params):\n",
    "    qc = ansatz(params)\n",
    "    counts = experiment(qc, number_of_measurements)\n",
    "    output_distr = normalise(counts)\n",
    "    return manhatten_distance(output_distr, target_distr)"
   ]
  },
  {
   "cell_type": "markdown",
   "metadata": {},
   "source": [
    "# 3. Training\n",
    "\n",
    "The task suggests using gradient descent or some other more advanced optimisation methods to determine a good set of parameters. I'll assume the wording gives us some scope for creativity here :) The field of machine learning provides very many ways to approach this problem. I've studied that outside of the field of quantum computing. We could leverage existing machine learning libraries with very advanced accelerated algorithms but here the objective it to keep it simple and from first principles. Here I will continue with SPCA which seems to be a good and simple approach to this problem.\n",
    "\n",
    "(Just for fun I've tried a couple of algorithms, from a simple random search through to advanced optimisers built into QisKit. The results are in the Appendix.)"
   ]
  },
  {
   "cell_type": "markdown",
   "metadata": {},
   "source": [
    "## Simultaneous perturbation stochastic approximation (SPSA)\n",
    "\n",
    "[SPSA](https://en.wikipedia.org/wiki/Simultaneous_perturbation_stochastic_approximation) is an interesting optimisation method and, according to a [QisKit tutorial](https://qiskit.org/textbook/ch-applications/vqe-molecules.html#optimization), preferred over standard gradient decent for these kinds of noisy problems.  \n",
    "\n",
    "The advantage of this method is that it takes far fewer samples of the objective function (exactly two per step) compared to other methods with similar performance. This would become important as the number of parameters grows larger. It does have more hyperparameters that need to be tuned by trial an error which is a disadvantage. It took several attempts to get the good values used below."
   ]
  },
  {
   "cell_type": "code",
   "execution_count": 11,
   "metadata": {},
   "outputs": [
    {
     "name": "stdout",
     "output_type": "stream",
     "text": [
      "1 2.59 [5.72  2.375 4.531 3.041] 0.326 1.0 [ 1 -1 -1 -1]\n",
      "11 1.113 [5.88  1.123 4.245 2.219] 0.082 0.116 [-1  1  1  1]\n",
      "21 0.899 [6.077 0.933 4.613 2.115] 0.042 0.065 [-1  1 -1  1]\n",
      "31 0.408 [6.183 0.673 4.624 2.339] 0.026 0.045 [ 1  1 -1  1]\n",
      "41 0.227 [6.151 0.522 4.707 2.503] 0.019 0.035 [-1 -1 -1  1]\n",
      "51 0.238 [6.081 0.513 4.711 2.552] 0.014 0.029 [1 1 1 1]\n",
      "Minimiser: [5.9308991  0.50821688 4.7222679  2.64884111] Minimum 0.20340740700304277\n"
     ]
    }
   ],
   "source": [
    "import random\n",
    "np.random.seed(836257)\n",
    "\n",
    "# Hyperparameters\n",
    "a = 4\n",
    "c = 1\n",
    "A = 5\n",
    "alpha = 1.4\n",
    "gamma = 0.9\n",
    "\n",
    "def initial_params():\n",
    "    return np.random.rand(4)*2*pi; # np.zeros(4)\n",
    "\n",
    "def optimise(params, num_steps):\n",
    "    for n in range(1, num_steps):\n",
    "        an = a/(n+A)**alpha\n",
    "        cn = c/n**gamma\n",
    "        delta = np.array(random.choices([1,-1], k=4))\n",
    "\n",
    "        plus = objective_function(params + cn*delta)\n",
    "        minus = objective_function(params - cn*delta)\n",
    "\n",
    "        params = params - an*(plus-minus)*delta/(2*cn)\n",
    "\n",
    "        if n%10 == 1:\n",
    "            print(n, round(objective_function(params),3), np.around(params,3), round(an,3), round(cn,3), delta)\n",
    "    return params\n",
    "\n",
    "params = optimise(initial_params(), 60) \n",
    "print(\"Minimiser:\", params, \"Minimum\", objective_function(params))"
   ]
  },
  {
   "cell_type": "markdown",
   "metadata": {},
   "source": [
    "It tends to converge very quickly. Now we can test the optimised parameters to check that they produce the right distribution."
   ]
  },
  {
   "cell_type": "code",
   "execution_count": 12,
   "metadata": {},
   "outputs": [
    {
     "data": {
      "image/png": "[encoded data removed]",
      "text/plain": [
       "<Figure size 504x360 with 1 Axes>"
      ]
     },
     "execution_count": 12,
     "metadata": {},
     "output_type": "execute_result"
    }
   ],
   "source": [
    "qc = ansatz([1.555, 0.25,  2.106, 3.262])\n",
    "counts = experiment(qc, 5000)\n",
    "plot_histogram(counts)"
   ]
  },
  {
   "cell_type": "markdown",
   "metadata": {},
   "source": [
    "Which indeed they do! This means that our simple ansatz is a good one and the optimisation method is working. Or at least good enough for this task :) \n",
    "\n",
    "# 4. Comparing results\n",
    "\n",
    "Now we want to compare results with different numbers of measurements. The tasks says to look at results with 1, 10, 100 and 1000 measurement at each iteration of the optimiser."
   ]
  },
  {
   "cell_type": "code",
   "execution_count": 13,
   "metadata": {},
   "outputs": [
    {
     "name": "stdout",
     "output_type": "stream",
     "text": [
      "1 2.414 [5.099 2.329 1.918 3.69 ] 0.326 1.0 [ 1  1  1 -1]\n",
      "11 1.0 [5.684 0.889 2.342 2.25 ] 0.082 0.116 [ 1 -1  1 -1]\n",
      "21 1.0 [6.625 0.885 1.371 1.31 ] 0.042 0.065 [ 1  1  1 -1]\n",
      "31 2.414 [ 6.176  2.18  -0.813  1.728] 0.026 0.045 [1 1 1 1]\n",
      "41 1.0 [6.151 2.191 0.032 0.952] 0.019 0.035 [ 1 -1  1  1]\n",
      "51 1.0 [ 7.956  1.784  1.166 -0.15 ] 0.014 0.029 [ 1 -1  1  1]\n",
      "61 2.414 [8.93  0.796 0.178 0.186] 0.011 0.025 [-1  1  1 -1]\n",
      "71 2.414 [ 7.972  1.125  1.125 -0.125] 0.009 0.022 [ 1  1 -1  1]\n",
      "81 2.414 [8.275 0.822 0.822 0.159] 0.008 0.019 [-1  1 -1 -1]\n",
      "91 2.414 [7.429 1.668 1.667 1.005] 0.007 0.017 [ 1 -1 -1 -1]\n",
      "Minimiser: [7.70199944 1.39293957 1.93503578 0.7373227 ] Minimum 2.414213562373095\n"
     ]
    }
   ],
   "source": [
    "number_of_measurements = 1\n",
    "\n",
    "params = optimise(initial_params(), 100)\n",
    "print(\"Minimiser:\", params, \"Minimum\", objective_function(params))"
   ]
  },
  {
   "cell_type": "code",
   "execution_count": 14,
   "metadata": {},
   "outputs": [
    {
     "name": "stdout",
     "output_type": "stream",
     "text": [
      "1 1.622 [1.373 1.361 3.982 0.473] 0.326 1.0 [ 1 -1  1 -1]\n",
      "11 0.277 [1.461 3.087 3.487 0.074] 0.082 0.116 [ 1  1 -1 -1]\n",
      "21 0.309 [0.945 3.504 3.917 0.486] 0.042 0.065 [-1  1  1  1]\n",
      "31 0.883 [ 0.333  2.772  5.065 -0.299] 0.026 0.045 [-1 -1 -1  1]\n",
      "41 1.089 [0.435 2.683 5.383 0.084] 0.019 0.035 [-1 -1 -1  1]\n",
      "51 0.59 [0.555 2.405 5.375 0.488] 0.014 0.029 [-1  1  1 -1]\n",
      "61 0.926 [0.783 2.123 5.401 0.642] 0.011 0.025 [-1  1 -1  1]\n",
      "71 1.036 [0.901 1.885 4.789 0.305] 0.009 0.022 [-1 -1  1  1]\n",
      "81 1.134 [1.362 2.156 5.133 0.74 ] 0.008 0.019 [-1 -1 -1 -1]\n",
      "91 1.234 [1.026 2.395 5.015 0.658] 0.007 0.017 [ 1 -1 -1 -1]\n",
      "Minimiser: [0.86680135 2.4883426  4.77891558 0.67284255] Minimum 0.9045340337332909\n"
     ]
    }
   ],
   "source": [
    "number_of_measurements = 10\n",
    "\n",
    "params = optimise(initial_params(), 100)\n",
    "print(\"Minimiser:\", params, \"Minimum\", objective_function(params))"
   ]
  },
  {
   "cell_type": "code",
   "execution_count": 15,
   "metadata": {},
   "outputs": [
    {
     "name": "stdout",
     "output_type": "stream",
     "text": [
      "1 0.507 [0.816 0.052 1.658 3.776] 0.326 1.0 [1 1 1 1]\n",
      "11 0.113 [1.054 0.163 1.637 3.359] 0.082 0.116 [-1 -1 -1  1]\n",
      "21 0.57 [0.966 0.198 1.714 3.309] 0.042 0.065 [ 1 -1 -1  1]\n",
      "31 0.085 [1.258 0.062 1.823 3.083] 0.026 0.045 [-1 -1 -1 -1]\n",
      "41 0.057 [ 1.15  -0.023  1.708  2.952] 0.019 0.035 [ 1  1 -1 -1]\n",
      "51 0.029 [ 1.061 -0.     1.695  2.839] 0.014 0.029 [-1  1 -1 -1]\n",
      "Minimiser: [1.05232984 0.03242746 1.7139963  2.91155146] Minimum 0.11518245674418133\n"
     ]
    }
   ],
   "source": [
    "number_of_measurements = 100\n",
    "\n",
    "params = optimise(initial_params(), 60)\n",
    "print(\"Minimiser:\", params, \"Minimum\", objective_function(params))"
   ]
  },
  {
   "cell_type": "code",
   "execution_count": 16,
   "metadata": {},
   "outputs": [
    {
     "name": "stdout",
     "output_type": "stream",
     "text": [
      "1 1.655 [3.257 1.694 5.034 4.242] 0.326 1.0 [ 1 -1 -1 -1]\n",
      "11 1.245 [3.007 1.192 5.003 4.465] 0.082 0.116 [-1  1  1 -1]\n",
      "21 1.17 [3.051 0.953 4.931 4.379] 0.042 0.065 [-1  1  1 -1]\n",
      "31 0.904 [3.063 0.68  4.937 4.22 ] 0.026 0.045 [1 1 1 1]\n",
      "41 0.448 [2.925 0.55  4.727 3.91 ] 0.019 0.035 [1 1 1 1]\n",
      "51 0.415 [2.994 0.467 4.763 3.8  ] 0.014 0.029 [-1 -1  1 -1]\n",
      "Minimiser: [2.98236337 0.363128   4.72687366 3.74798005] Minimum 0.22937440195000802\n"
     ]
    }
   ],
   "source": [
    "number_of_measurements = 1000\n",
    "\n",
    "params = optimise(initial_params(), 60)\n",
    "print(\"Minimiser:\", params, \"Minimum\", objective_function(params))"
   ]
  },
  {
   "cell_type": "markdown",
   "metadata": {},
   "source": [
    "It's clear that smaller numbers of measurements make traing extremely difficult, at least with the optimisation technique I've used here. Even with longer training runs a single measurement does not converge and 10 samples struggles. This makes sense because the inherent randomness of the measurement makes the expectation value nearly meaninless and overwhelms the training strategy. 100 and 1000 measurements work well becaue they result in a good estimation of the expectation value.\n",
    "\n",
    "# 5. Conclusion\n",
    "\n",
    "Further directions:\n",
    "\n",
    "1. Look more closely at different noise models. The noise model used here is copied from the QisKit documentation. I'd like to understand the different types of error better.\n",
    "2. Study the performance of different training algorithms in the presence of noisy measurements. I tried several more advanced algorithms (one of which is in the Appendix) which proiveded great results and I'm sure there's a lot more possibilities here.\n",
    "3. Study [standard error](https://en.wikipedia.org/wiki/Standard_error) of the measurement results separately from the training algorithm. Normally the standard error varies with $N^{-\\tfrac{1}{2}}$. It would be interesting to see if this still holds when noisy measurements are involved."
   ]
  },
  {
   "cell_type": "markdown",
   "metadata": {},
   "source": [
    "# Appendix 1 - Other training algorithms\n",
    "\n",
    "## Random search (or Monte Carlo)\n",
    "\n",
    "This simple but often far from optimal way to optimise a function is to just sample points around the current one and (usually) move in the direction of the lowest point. The step size (or [learning rate](https://en.wikipedia.org/wiki/Learning_rate)) is usually taken to decrease over the course of the trajectory to narrow in on the minimum. In this code it uses an exponential decay.\n",
    "\n",
    "The advantage of this method is its simplicity and the fact that it needs a single objective function evaluation at each step. It can however be prone to falling into local minima. It sometimes needs to be run a few times to find a good result."
   ]
  },
  {
   "cell_type": "code",
   "execution_count": 17,
   "metadata": {
    "scrolled": true
   },
   "outputs": [
    {
     "name": "stdout",
     "output_type": "stream",
     "text": [
      "0 [4.513 6.097 5.018 3.92 ] 0.25 3.0\n",
      "379 [4.513 6.097 5.018 3.92 ] 0.249 0.145\n",
      "472 [4.63  6.216 5.044 3.94 ] 0.246 0.069\n",
      "632 [4.665 6.249 5.078 3.957] 0.246 0.019\n",
      "682 [4.668 6.255 5.081 3.963] 0.224 0.013\n",
      "Minimiser: [4.67862673 6.26541284 5.08160411 3.97049624] Minimum: 0.3530950745432375\n"
     ]
    }
   ],
   "source": [
    "# Hyperparameters\n",
    "num_steps = 1000 # Maximum number of steps to take, in other words, the total number of sampled points.\n",
    "initial_learning_rate = 3.0 # This starts high to try to avoid local minima early in the run.\n",
    "decay_rate = 8.0/num_steps # Some tunable parameter to reduce the size of the steps over time.\n",
    "jitter = 0.001 # Probability of accepting a new point even it it is grater then the current one.\n",
    "\n",
    "def learning_rate(t):\n",
    "    return math.exp(-decay_rate*t) * initial_learning_rate\n",
    "\n",
    "params = np.random.rand(4)*2*math.pi\n",
    "#params = np.zeros(4)\n",
    "min = objective_function(params)\n",
    "print(0, np.around(params, 3), round(min,2), initial_learning_rate)\n",
    "\n",
    "for t in range(1, num_steps):\n",
    "    delta = np.random.rand(4) * learning_rate(t)\n",
    "    new = objective_function(params + delta)\n",
    "    if new < min or random.random() < jitter*min/new:\n",
    "        print(t, np.around(params,3), round(new,3), round(learning_rate(t),3))\n",
    "        params = (params+delta)%(2*math.pi)\n",
    "        min = new\n",
    "\n",
    "print(\"Minimiser:\", params, \"Minimum:\", objective_function(params))"
   ]
  },
  {
   "cell_type": "code",
   "execution_count": 18,
   "metadata": {},
   "outputs": [
    {
     "data": {
      "image/png": "[encoded data removed]",
      "text/plain": [
       "<Figure size 504x360 with 1 Axes>"
      ]
     },
     "execution_count": 18,
     "metadata": {},
     "output_type": "execute_result"
    }
   ],
   "source": [
    "qc = ansatz(params)\n",
    "counts = experiment(qc, 5000)\n",
    "plot_histogram(counts)"
   ]
  },
  {
   "cell_type": "markdown",
   "metadata": {},
   "source": [
    "From my experiments I'd conclude that this method can produce reasonable results but it's unreliable. It also needs a larger and larger number of steps to improve accuracy.\n",
    "\n",
    "## An advanced optimiser provided by QisKit\n",
    "\n",
    "I couldn't resit trying an existing optimiser to compare the performance. In this case, guided by the [QisKit documentation](https://qiskit.org/textbook/ch-applications/vqe-molecules.html#optimization) I use the [COBYLA](https://qiskit.org/documentation/stubs/qiskit.aqua.components.optimizers.COBYLA.html) optimiser. It's very simple to produce the same output as the previous example."
   ]
  },
  {
   "cell_type": "code",
   "execution_count": 19,
   "metadata": {},
   "outputs": [
    {
     "name": "stdout",
     "output_type": "stream",
     "text": [
      "Minimiser: [ 5.19630102 -0.00702726  4.72246694  2.90030796] Minimum: 0.1105069135324078\n"
     ]
    }
   ],
   "source": [
    "from qiskit.aqua.components.optimizers import COBYLA\n",
    "\n",
    "params = np.random.rand(4)*2*math.pi\n",
    "\n",
    "optimizer = COBYLA(maxiter=100, tol=0.0001, disp=True)\n",
    "ret = optimizer.optimize(num_vars=4, objective_function=objective_function, initial_point=params)\n",
    "\n",
    "print(\"Minimiser:\", ret[0], \"Minimum:\", objective_function(ret[0]))"
   ]
  },
  {
   "cell_type": "code",
   "execution_count": 20,
   "metadata": {},
   "outputs": [
    {
     "data": {
      "image/png": "[encoded data removed]",
      "text/plain": [
       "<Figure size 504x360 with 1 Axes>"
      ]
     },
     "execution_count": 20,
     "metadata": {},
     "output_type": "execute_result"
    }
   ],
   "source": [
    "# Obtain the output distribution using the final parameters\n",
    "qc = ansatz(ret[0])\n",
    "output_distr = normalise(experiment(qc, 2000))\n",
    "plot_histogram(output_distr)"
   ]
  },
  {
   "cell_type": "markdown",
   "metadata": {},
   "source": [
    "This gives a great result, better than either of the previous methods, and from my experiments, it does it reliably and with fewer steps. This would be the current best option for other projects. It makes it clear that other we can do far better than the basic optimisers."
   ]
  }
 ],
 "metadata": {
  "@webio": {
   "lastCommId": null,
   "lastKernelId": null
  },
  "kernelspec": {
   "display_name": "Python 3",
   "language": "python",
   "name": "python3"
  },
  "language_info": {
   "codemirror_mode": {
    "name": "ipython",
    "version": 3
   },
   "file_extension": ".py",
   "mimetype": "text/x-python",
   "name": "python",
   "nbconvert_exporter": "python",
   "pygments_lexer": "ipython3",
   "version": "3.8.5"
  }
 },
 "nbformat": 4,
 "nbformat_minor": 4
}
